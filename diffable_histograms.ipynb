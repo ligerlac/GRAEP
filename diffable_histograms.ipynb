{
 "cells": [
  {
   "cell_type": "markdown",
   "id": "cef825ee",
   "metadata": {},
   "source": [
    "# Differentiable Histograms\n",
    "\n",
    "One of the most common data structures in HEP is the **histogram**. It is a very powerful data reduction and density estimation technique, and ubiquitous in the field.\n",
    "\n",
    "A histogram can be thought of as a set of intervals on a 1D domain (bins), and a set of counts for each interval (yields).\n",
    "\n",
    "We want to take the gradient of the yields with respect to the parameters that control the data (φ). But this is ill-defined -- histograms are discrete!\n",
    "\n",
    "To illustrate this further: gradients are the language of small changes, so how do the yields change when we wiggle φ?\n",
    "\n",
    "- events migrate between bins (discontinuous) \n",
    "- ...or stay in the same bin (zero gradient) \n",
    "\n",
    "So what do we do? That's the subject of this notebook :)\n",
    "\n",
    "Check out this preprint https://arxiv.org/abs/2203.05570 for more information (section 3.2), which describes binned Kernel Density Estimates (bKDEs)"
   ]
  },
  {
   "cell_type": "code",
   "execution_count": 1,
   "id": "b5316505",
   "metadata": {},
   "outputs": [],
   "source": [
    "# import relaxed\n",
    "import numpy as np\n",
    "import matplotlib.pyplot as plt\n",
    "\n",
    "# matplotlib settings\n",
    "\n",
    "plt.rc(\"figure\", figsize=(6, 2), dpi=150, facecolor=\"w\")\n"
   ]
  },
  {
   "cell_type": "markdown",
   "id": "d511200d",
   "metadata": {},
   "source": [
    "The trick is that instead of using a \"hard\" histogram function like `np.histogram` (using the jax version `jnp.histogram` doesn't make it differentiable by default, but for fun you can try what happens if you use that) you would use a \"relaxed\" version from the `relaxed` library.\n",
    "\n",
    "\n",
    "As a user you will need to specify the degree of relaxation, here given by the \"bandwidth\" of the kernel density estimate. Try playing with the bandwidth parameter to see the effect it has on the shape -- higher = more bias, more stable gradients, and lower = more histogram-like, less stable gradients."
   ]
  },
  {
   "cell_type": "code",
   "execution_count": 8,
   "id": "87ecf1d5",
   "metadata": {},
   "outputs": [],
   "source": [
    "from functools import partial\n",
    "import jax\n",
    "import jax.numpy as jnp\n",
    "import jax.scipy as jsp\n",
    "from jax import Array\n",
    "\n",
    "\n",
    "@partial(jax.jit, static_argnames=[\"density\", \"reflect_infinities\"])\n",
    "def diff_hist(\n",
    "    data: Array,\n",
    "    bins: Array,\n",
    "    bandwidth: float,  # | None = None,\n",
    "    density: bool = False,\n",
    "    reflect_infinities: bool = False,\n",
    ") -> Array:\n",
    "    \"\"\"Differentiable histogram, defined via a binned kernel density estimate (bKDE).\n",
    "\n",
    "    Parameters\n",
    "    ----------\n",
    "    data : Array\n",
    "        1D array of data to histogram.\n",
    "    bins : Array\n",
    "        1D array of bin edges.\n",
    "    bandwidth : float\n",
    "        The bandwidth of the kernel. Bigger == lower gradient variance, but more bias.\n",
    "    density : bool\n",
    "        Normalise the histogram to unit area.\n",
    "    reflect_infinities : bool\n",
    "        If True, define bins at +/- infinity, and reflect their mass into the edge bins.\n",
    "\n",
    "    Returns\n",
    "    -------\n",
    "    Array\n",
    "        1D array of bKDE counts.\n",
    "    \"\"\"\n",
    "    # bandwidth = bandwidth or events.shape[-1] ** -0.25  # Scott's rule\n",
    "\n",
    "    bins = jnp.array([-jnp.inf, *bins, jnp.inf]) if reflect_infinities else bins\n",
    "\n",
    "    # get cumulative counts (area under kde) for each set of bin edges\n",
    "    cdf = jsp.stats.norm.cdf(bins.reshape(-1, 1), loc=data, scale=bandwidth)\n",
    "    # sum kde contributions in each bin\n",
    "    counts = (cdf[1:, :] - cdf[:-1, :]).sum(axis=1)\n",
    "\n",
    "    if density:  # normalize by bin width and counts for total area = 1\n",
    "        db = jnp.array(jnp.diff(bins), float)  # bin spacing\n",
    "        counts = counts / db / counts.sum(axis=0)\n",
    "\n",
    "    if reflect_infinities:\n",
    "        counts = (\n",
    "            counts[1:-1]\n",
    "            + jnp.array([counts[0]] + [0] * (len(counts) - 3))\n",
    "            + jnp.array([0] * (len(counts) - 3) + [counts[-1]])\n",
    "        )\n",
    "\n",
    "    return counts"
   ]
  },
  {
   "cell_type": "code",
   "execution_count": null,
   "id": "205622d5",
   "metadata": {},
   "outputs": [
    {
     "data": {
      "application/vnd.jupyter.widget-view+json": {
       "model_id": "840f0eaeae1d4d809fbfc359a752d9f3",
       "version_major": 2,
       "version_minor": 0
      },
      "text/plain": [
       "interactive(children=(FloatSlider(value=1.0, description='Bandwidth:', max=5.0, min=0.001, readout_format='.3f…"
      ]
     },
     "execution_count": 12,
     "metadata": {},
     "output_type": "execute_result"
    }
   ],
   "source": [
    "inputs = np.random.normal(1, 1, size=1000)\n",
    "bins = np.linspace(-10, 10, 51)\n",
    "ctrs = bins[:-1] + np.diff(bins) / 2\n",
    "from scipy.stats import gaussian_kde\n",
    "\n",
    "grid = np.linspace(-10,10,1000)\n",
    "\n",
    "\n",
    "def hist_plot(bandwidth):\n",
    "    kernel = gaussian_kde(inputs, bw_method=bandwidth)\n",
    "    kde = kernel(grid)\n",
    "\n",
    "    # counts_soft_p1 = relaxed.hist(inputs, bandwidth=bandwidth, bins=bins, density=True)\n",
    "    counts_soft_p1 = diff_hist(inputs, bandwidth=bandwidth, bins=bins, density=True)\n",
    "    print(f\"counts_soft_p1: {counts_soft_p1.shape}, sum: {counts_soft_p1.sum()}\")\n",
    "    counts_hard, _ = np.histogram(inputs, bins=bins, density=True)\n",
    "    plt.step(ctrs, counts_hard, label=\"histogram\", where=\"mid\", linestyle=\"dotted\")\n",
    "    plt.step(ctrs, counts_soft_p1, label=\"bKDE\", where=\"mid\", alpha=0.6)\n",
    "    plt.plot(grid, kde, alpha=0.4, label=\"KDE\", color=\"C1\", linestyle=\"dashed\")\n",
    "    plt.legend()\n",
    "    plt.xlim(-5, 5)\n",
    "    \n",
    "import ipywidgets as widgets\n",
    "\n",
    "slider = widgets.FloatSlider(\n",
    "    value=1,\n",
    "    min=0.001,\n",
    "    max=5.0,\n",
    "    step=0.001,\n",
    "    description='Bandwidth:',\n",
    "    disabled=False,\n",
    "    continuous_update=True,\n",
    "    orientation='horizontal',\n",
    "    readout=True,\n",
    "    readout_format='.3f',\n",
    ")\n",
    "widgets.interactive(hist_plot, bandwidth=slider)"
   ]
  },
  {
   "cell_type": "markdown",
   "id": "1de316a2",
   "metadata": {},
   "source": [
    "# Optimizing through histogramming\n",
    "\n",
    "\n",
    "The main advantage of \"soft\" histograms through `relaxed` is that you can optimise by taking gradients across the histogramming operation, i.e. histograms can be part of a loss function. We will demonstrate this by doing a \"gradient-based\" shift of the histogram.\n",
    "\n",
    "If you have many events $x_i$, we ask what is the value $\\Delta$ such that the peak of the histogram of  $x_i + \\Delta$ is at some desired value (e.g. t=3.0). Our data was generated with a mean of 1, so we're looking for an optimum of $\\Delta = 2$. Not really a useful problem, but it's illustrative enough!\n",
    "\n",
    "For this we will set up a mean-squared error loss term \n",
    "\n",
    "$$L(\\Delta) = (\\mathrm{mean_i}(\\mathrm{histogram}(x_i+\\Delta)) - t)^2$$\n",
    "\n",
    "and we will the minimize $L$ by computing gradients $\\partial L \\over \\partial \\Delta$, allowing us to perform gradient descent.\n"
   ]
  },
  {
   "cell_type": "code",
   "execution_count": 13,
   "id": "981cdb1c",
   "metadata": {},
   "outputs": [],
   "source": [
    "def shift_histo(factor, inputs):\n",
    "    shifted_inputs = factor + inputs\n",
    "    # soft_counts = relaxed.hist(shifted_inputs, bandwidth=0.5, bins=bins)\n",
    "    soft_counts = soft_counts = diff_hist(\n",
    "        shifted_inputs, bandwidth=0.5, bins=bins, density=True\n",
    "    )\n",
    "    binned_mean = np.sum(ctrs * soft_counts / len(shifted_inputs))\n",
    "    return binned_mean\n",
    "\n",
    "\n",
    "def loss(param, target, inputs):\n",
    "    binned_mean = shift_histo(param, inputs)\n",
    "    loss = (binned_mean - target) ** 2\n",
    "    return loss"
   ]
  },
  {
   "cell_type": "code",
   "execution_count": 19,
   "id": "498c14c3",
   "metadata": {
    "scrolled": false
   },
   "outputs": [
    {
     "name": "stdout",
     "output_type": "stream",
     "text": [
      "delta: 0.04, loss: 8.99\n",
      "delta: 0.24, loss: 8.98\n",
      "delta: 0.44, loss: 8.98\n",
      "delta: 0.64, loss: 8.98\n",
      "delta: 0.84, loss: 8.97\n",
      "delta: 1.04, loss: 8.97\n",
      "delta: 1.24, loss: 8.97\n",
      "delta: 1.44, loss: 8.96\n",
      "delta: 1.64, loss: 8.96\n",
      "delta: 1.84, loss: 8.96\n",
      "delta: 2.04, loss: 8.96\n",
      "delta: 2.24, loss: 8.95\n",
      "delta: 2.44, loss: 8.95\n",
      "delta: 2.64, loss: 8.95\n",
      "delta: 2.84, loss: 8.94\n",
      "delta: 3.04, loss: 8.94\n",
      "delta: 3.24, loss: 8.94\n",
      "delta: 3.44, loss: 8.93\n",
      "delta: 3.64, loss: 8.93\n",
      "delta: 3.84, loss: 8.93\n"
     ]
    },
    {
     "ename": "RuntimeError",
     "evalue": "Requested MovieWriter (ffmpeg) not available",
     "output_type": "error",
     "traceback": [
      "\u001b[0;31m---------------------------------------------------------------------------\u001b[0m",
      "\u001b[0;31mRuntimeError\u001b[0m                              Traceback (most recent call last)",
      "Cell \u001b[0;32mIn[19], line 31\u001b[0m\n\u001b[1;32m     29\u001b[0m ani \u001b[38;5;241m=\u001b[39m cam\u001b[38;5;241m.\u001b[39manimate()\n\u001b[1;32m     30\u001b[0m \u001b[38;5;28;01mfrom\u001b[39;00m\u001b[38;5;250m \u001b[39m\u001b[38;5;21;01mIPython\u001b[39;00m\u001b[38;5;21;01m.\u001b[39;00m\u001b[38;5;21;01mdisplay\u001b[39;00m\u001b[38;5;250m \u001b[39m\u001b[38;5;28;01mimport\u001b[39;00m HTML\n\u001b[0;32m---> 31\u001b[0m HTML(\u001b[43mani\u001b[49m\u001b[38;5;241;43m.\u001b[39;49m\u001b[43mto_html5_video\u001b[49m\u001b[43m(\u001b[49m\u001b[43m)\u001b[49m)\n",
      "File \u001b[0;32m/afs/cern.ch/work/l/ligerlac/private/z-prime-ttbar-gradients/venv/lib64/python3.9/site-packages/matplotlib/animation.py:1265\u001b[0m, in \u001b[0;36mAnimation.to_html5_video\u001b[0;34m(self, embed_limit)\u001b[0m\n\u001b[1;32m   1262\u001b[0m path \u001b[38;5;241m=\u001b[39m Path(tmpdir, \u001b[38;5;124m\"\u001b[39m\u001b[38;5;124mtemp.m4v\u001b[39m\u001b[38;5;124m\"\u001b[39m)\n\u001b[1;32m   1263\u001b[0m \u001b[38;5;66;03m# We create a writer manually so that we can get the\u001b[39;00m\n\u001b[1;32m   1264\u001b[0m \u001b[38;5;66;03m# appropriate size for the tag\u001b[39;00m\n\u001b[0;32m-> 1265\u001b[0m Writer \u001b[38;5;241m=\u001b[39m \u001b[43mwriters\u001b[49m\u001b[43m[\u001b[49m\u001b[43mmpl\u001b[49m\u001b[38;5;241;43m.\u001b[39;49m\u001b[43mrcParams\u001b[49m\u001b[43m[\u001b[49m\u001b[38;5;124;43m'\u001b[39;49m\u001b[38;5;124;43manimation.writer\u001b[39;49m\u001b[38;5;124;43m'\u001b[39;49m\u001b[43m]\u001b[49m\u001b[43m]\u001b[49m\n\u001b[1;32m   1266\u001b[0m writer \u001b[38;5;241m=\u001b[39m Writer(codec\u001b[38;5;241m=\u001b[39m\u001b[38;5;124m'\u001b[39m\u001b[38;5;124mh264\u001b[39m\u001b[38;5;124m'\u001b[39m,\n\u001b[1;32m   1267\u001b[0m                 bitrate\u001b[38;5;241m=\u001b[39mmpl\u001b[38;5;241m.\u001b[39mrcParams[\u001b[38;5;124m'\u001b[39m\u001b[38;5;124manimation.bitrate\u001b[39m\u001b[38;5;124m'\u001b[39m],\n\u001b[1;32m   1268\u001b[0m                 fps\u001b[38;5;241m=\u001b[39m\u001b[38;5;241m1000.\u001b[39m \u001b[38;5;241m/\u001b[39m \u001b[38;5;28mself\u001b[39m\u001b[38;5;241m.\u001b[39m_interval)\n\u001b[1;32m   1269\u001b[0m \u001b[38;5;28mself\u001b[39m\u001b[38;5;241m.\u001b[39msave(\u001b[38;5;28mstr\u001b[39m(path), writer\u001b[38;5;241m=\u001b[39mwriter)\n",
      "File \u001b[0;32m/afs/cern.ch/work/l/ligerlac/private/z-prime-ttbar-gradients/venv/lib64/python3.9/site-packages/matplotlib/animation.py:128\u001b[0m, in \u001b[0;36mMovieWriterRegistry.__getitem__\u001b[0;34m(self, name)\u001b[0m\n\u001b[1;32m    126\u001b[0m \u001b[38;5;28;01mif\u001b[39;00m \u001b[38;5;28mself\u001b[39m\u001b[38;5;241m.\u001b[39mis_available(name):\n\u001b[1;32m    127\u001b[0m     \u001b[38;5;28;01mreturn\u001b[39;00m \u001b[38;5;28mself\u001b[39m\u001b[38;5;241m.\u001b[39m_registered[name]\n\u001b[0;32m--> 128\u001b[0m \u001b[38;5;28;01mraise\u001b[39;00m \u001b[38;5;167;01mRuntimeError\u001b[39;00m(\u001b[38;5;124mf\u001b[39m\u001b[38;5;124m\"\u001b[39m\u001b[38;5;124mRequested MovieWriter (\u001b[39m\u001b[38;5;132;01m{\u001b[39;00mname\u001b[38;5;132;01m}\u001b[39;00m\u001b[38;5;124m) not available\u001b[39m\u001b[38;5;124m\"\u001b[39m)\n",
      "\u001b[0;31mRuntimeError\u001b[0m: Requested MovieWriter (ffmpeg) not available"
     ]
    },
    {
     "data": {
      "image/png": "[encoded data removed]",
      "text/plain": [
       "<Figure size 900x300 with 1 Axes>"
      ]
     },
     "metadata": {},
     "output_type": "display_data"
    }
   ],
   "source": [
    "import jax\n",
    "import optax\n",
    "import celluloid\n",
    "\n",
    "opt = optax.adam(4e-2)\n",
    "params = 0.0\n",
    "state = opt.init(params)\n",
    "target = 3.0\n",
    "\n",
    "fig, ax = plt.subplots()\n",
    "\n",
    "cam = celluloid.Camera(fig)\n",
    "\n",
    "for i in range(100):\n",
    "    lvalue, g = jax.value_and_grad(loss)(params, target, inputs)\n",
    "    updates, state = opt.update(g, state)\n",
    "    params = optax.apply_updates(params, updates)\n",
    "    if i % 5 == 0:\n",
    "        print(f\"delta: {params:.3g}, loss: {lvalue:.3g}\")\n",
    "\n",
    "        hard_hist = np.histogram(params + inputs, bins=bins)[0]\n",
    "        hard_mean = np.sum(ctrs * hard_hist / len(inputs))\n",
    "        ax.step(ctrs, hard_hist, where=\"mid\", color=\"maroon\")\n",
    "        ax.set_xlim(-5, 5)\n",
    "        ax.set_ylim(0, 200)\n",
    "        ax.vlines(hard_mean, 0, 200, colors=\"maroon\")\n",
    "        ax.vlines(target, 0, 200, colors=\"k\")\n",
    "        cam.snap()\n",
    "ani = cam.animate()\n",
    "from IPython.display import HTML\n",
    "HTML(ani.to_html5_video())"
   ]
  },
  {
   "cell_type": "code",
   "execution_count": null,
   "id": "f65ffb2c",
   "metadata": {},
   "outputs": [],
   "source": []
  }
 ],
 "metadata": {
  "kernelspec": {
   "display_name": "venv",
   "language": "python",
   "name": "python3"
  },
  "language_info": {
   "codemirror_mode": {
    "name": "ipython",
    "version": 3
   },
   "file_extension": ".py",
   "mimetype": "text/x-python",
   "name": "python",
   "nbconvert_exporter": "python",
   "pygments_lexer": "ipython3",
   "version": "3.9.21"
  }
 },
 "nbformat": 4,
 "nbformat_minor": 5
}
